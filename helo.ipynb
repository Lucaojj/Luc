{
 "cells": [
  {
   "cell_type": "code",
   "execution_count": 2,
   "id": "53208ffd",
   "metadata": {},
   "outputs": [
    {
     "name": "stdout",
     "output_type": "stream",
     "text": [
      "actualiza?\n"
     ]
    }
   ],
   "source": [
    "print('actualiza?')"
   ]
  },
  {
   "cell_type": "code",
   "execution_count": 1,
   "id": "229065a2",
   "metadata": {},
   "outputs": [
    {
     "name": "stdout",
     "output_type": "stream",
     "text": [
      "si\n"
     ]
    }
   ],
   "source": [
    "print('si')"
   ]
  },
  {
   "cell_type": "code",
   "execution_count": 3,
   "id": "599fa944",
   "metadata": {},
   "outputs": [
    {
     "name": "stdout",
     "output_type": "stream",
     "text": [
      "commit\n"
     ]
    }
   ],
   "source": [
    "print('commit')"
   ]
  },
  {
   "cell_type": "code",
   "execution_count": null,
   "id": "957787f9",
   "metadata": {},
   "outputs": [],
   "source": []
  }
 ],
 "metadata": {
  "kernelspec": {
   "display_name": "Python 3 (ipykernel)",
   "language": "python",
   "name": "python3"
  },
  "language_info": {
   "codemirror_mode": {
    "name": "ipython",
    "version": 3
   },
   "file_extension": ".py",
   "mimetype": "text/x-python",
   "name": "python",
   "nbconvert_exporter": "python",
   "pygments_lexer": "ipython3",
   "version": "3.8.8"
  }
 },
 "nbformat": 4,
 "nbformat_minor": 5
}
